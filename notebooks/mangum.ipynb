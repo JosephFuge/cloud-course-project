{
 "cells": [
  {
   "cell_type": "markdown",
   "metadata": {},
   "source": [
    "# FastAPI on AWS Lambda with `mangum`\n",
    "\n",
    "## Overview\n",
    "\n",
    "This notebook demonstrates how to use the [Mangum](https://github.com/jordaneremieff/mangum) adapter between so that\n",
    "FastAPI code can be used in an AWS Lambda handler for an API Gateway route.\n",
    "\n",
    "It converts \n",
    "\n",
    "1. API Gateway's JSON representation of HTTP requests format that FastAPI can consume, and\n",
    "2. FastAPI's HTTP response format into the JSON representation that API Gateway expects.\n",
    "\n",
    "## Running this notebook\n",
    "\n",
    "To run this notebook, you will need to \n",
    "\n",
    "- `pip install --editable path/to/files-api[test]` your FastAPI app into the venv used by the notebook\n",
    "- copy/paste `put-audio-file-request.json` so that it is a sibling of this notebook\n",
    "- copy/paste `get-audio-file-request.json` so that it is a sibling of this notebook"
   ]
  },
  {
   "cell_type": "markdown",
   "metadata": {},
   "source": [
    "## Install requirements for the Notebook"
   ]
  },
  {
   "cell_type": "code",
   "execution_count": 8,
   "metadata": {},
   "outputs": [
    {
     "name": "stdout",
     "output_type": "stream",
     "text": [
      "Overwriting requirements.txt\n"
     ]
    }
   ],
   "source": [
    "%%writefile requirements.txt\n",
    "# this file is generated -- do not edit\n",
    "mangum\n",
    "nest_asyncio\n",
    "rich"
   ]
  },
  {
   "cell_type": "code",
   "execution_count": 1,
   "metadata": {},
   "outputs": [],
   "source": [
    "! pip install -r requirements.txt &> /dev/null"
   ]
  },
  {
   "cell_type": "markdown",
   "metadata": {},
   "source": [
    "## Imports"
   ]
  },
  {
   "cell_type": "code",
   "execution_count": 3,
   "metadata": {},
   "outputs": [
    {
     "name": "stdout",
     "output_type": "stream",
     "text": [
      "ImportError in read_objects.py: No module named 'mypy_boto3_s3'\n"
     ]
    }
   ],
   "source": [
    "from pathlib import Path\n",
    "import json\n",
    "\n",
    "# adapter for FastAPI and lambda handler\n",
    "from mangum import Mangum\n",
    "\n",
    "# our API\n",
    "from files_api.main import create_app\n",
    "from files_api.settings import Settings\n",
    "\n",
    "# mock s3\n",
    "from moto import mock_aws\n",
    "import boto3\n",
    "\n",
    "# make mangum's asyncio work in jupyter\n",
    "import nest_asyncio\n",
    "\n",
    "# display pretty output\n",
    "from rich import print\n",
    "import io\n",
    "import base64\n",
    "from IPython.display import Audio, display"
   ]
  },
  {
   "cell_type": "markdown",
   "metadata": {},
   "source": [
    "## Constants"
   ]
  },
  {
   "cell_type": "code",
   "execution_count": 4,
   "metadata": {},
   "outputs": [],
   "source": [
    "# --- Set these to whatever you like\n",
    "S3_BUCKET_NAME = \"some-bucket\"  # can be fake since we're mocking S3\n",
    "AWS_REGION = \"us-east-1\"\n",
    "SAMPLE_APIGW_LAMBDA_PROXY_EVENT_FPATH__PUT = \"./put-audio-file-request.json\"\n",
    "SAMPLE_APIGW_LAMBDA_PROXY_EVENT_FPATH__GET = \"./get-audio-file-request.json\"\n",
    "\n",
    "# --- Derived constants ---\n",
    "APP_SETTINGS = Settings(s3_bucket_name=S3_BUCKET_NAME)\n",
    "FASTAPI_APP = create_app(settings=APP_SETTINGS)\n",
    "\n",
    "PUT_AUDIO_FILE_EVENT: dict = json.loads(Path(SAMPLE_APIGW_LAMBDA_PROXY_EVENT_FPATH__PUT).read_text())\n",
    "GET_AUDIO_FILE_EVENT: dict = json.loads(Path(SAMPLE_APIGW_LAMBDA_PROXY_EVENT_FPATH__GET).read_text())\n"
   ]
  },
  {
   "cell_type": "markdown",
   "metadata": {},
   "source": [
    "## Utils for Mocking AWS Lambda and S3\n",
    "\n",
    "Skip over reading this the first time through."
   ]
  },
  {
   "cell_type": "code",
   "execution_count": 9,
   "metadata": {},
   "outputs": [],
   "source": [
    "from contextlib import contextmanager\n",
    "import os\n",
    "from mangum.types import LambdaContext\n",
    "\n",
    "# custom context class for Lambda\n",
    "class MockedLambdaContext(LambdaContext):\n",
    "    function_name: str = \"test_function\"\n",
    "    function_version: str = \"1\"\n",
    "    invoked_function_arn: str = f\"arn:aws:lambda:{AWS_REGION}:123456789012:function:test_function\"\n",
    "    memory_limit_in_mb: int = 128\n",
    "    aws_request_id: str = \"unique-request-id\"\n",
    "    log_group_name: str = \"/aws/lambda/test_function\"\n",
    "    log_stream_name: str = \"2021/03/26/[$LATEST]abcdef1234567890abcdef\"\n",
    "    identity: str = None\n",
    "    client_context: str = None\n",
    "\n",
    "    def get_remaining_time_in_millis(self) -> int:\n",
    "        return 30000  # 30 seconds\n",
    "\n",
    "@contextmanager\n",
    "def mock_aws_and_env_vars():\n",
    "    with mock_aws():\n",
    "        os.environ[\"AWS_REGION\"] = \"us-west-2\"\n",
    "        os.environ[\"AWS_ACCESS_KEY_ID\"] = \"mock-access-key-id\"\n",
    "        os.environ[\"AWS_SECRET_ACCESS_KEY\"] = \"mock-secret-access-key\"\n",
    "        os.environ.pop(\"AWS_SESSION_TOKEN\", None)\n",
    "        os.environ.pop(\"AWS_PROFILE\", None)\n",
    "        yield\n",
    "\n",
    "\n",
    "def display_base64_audio(base64_string: str):\n",
    "    # Decode the base64 string to binary data\n",
    "    audio_data = base64.b64decode(base64_string)\n",
    "    \n",
    "    # Create an in-memory binary stream\n",
    "    audio_stream = io.BytesIO(audio_data)\n",
    "    \n",
    "    # Display the audio in the notebook\n",
    "    display(Audio(audio_stream.read(), rate=44100))"
   ]
  },
  {
   "cell_type": "markdown",
   "metadata": {},
   "source": [
    "## Write and then read a file using the API\n",
    "\n",
    "Note that in `handler_fn = Mangum(app=FASTAPI_APP, lifespan='off')` we disable the lifespan events\n",
    "on the FastAPI app.\n"
   ]
  },
  {
   "cell_type": "code",
   "execution_count": null,
   "metadata": {},
   "outputs": [
    {
     "data": {
      "text/html": [
       "<pre style=\"white-space:pre;overflow-x:auto;line-height:normal;font-family:Menlo,'DejaVu Sans Mono',consolas,'Courier New',monospace\">Response from <span style=\"color: #008000; text-decoration-color: #008000\">'PUT /v1/files/example/generated-speech.mp3'</span>\n",
       "</pre>\n"
      ],
      "text/plain": [
       "Response from \u001b[32m'PUT /v1/files/example/generated-speech.mp3'\u001b[0m\n"
      ]
     },
     "metadata": {},
     "output_type": "display_data"
    },
    {
     "data": {
      "text/html": [
       "<pre style=\"white-space:pre;overflow-x:auto;line-height:normal;font-family:Menlo,'DejaVu Sans Mono',consolas,'Courier New',monospace\"><span style=\"font-weight: bold\">{</span>\n",
       "    <span style=\"color: #008000; text-decoration-color: #008000\">'statusCode'</span>: <span style=\"color: #008080; text-decoration-color: #008080; font-weight: bold\">422</span>,\n",
       "    <span style=\"color: #008000; text-decoration-color: #008000\">'body'</span>: <span style=\"color: #008000; text-decoration-color: #008000\">'{\"detail\":[{\"type\":\"missing\",\"loc\":[\"body\",\"file\"],\"msg\":\"Field required\",\"input\":null}]}'</span>,\n",
       "    <span style=\"color: #008000; text-decoration-color: #008000\">'headers'</span>: <span style=\"font-weight: bold\">{</span><span style=\"color: #008000; text-decoration-color: #008000\">'content-length'</span>: <span style=\"color: #008000; text-decoration-color: #008000\">'89'</span>, <span style=\"color: #008000; text-decoration-color: #008000\">'content-type'</span>: <span style=\"color: #008000; text-decoration-color: #008000\">'application/json'</span><span style=\"font-weight: bold\">}</span>,\n",
       "    <span style=\"color: #008000; text-decoration-color: #008000\">'isBase64Encoded'</span>: <span style=\"color: #ff0000; text-decoration-color: #ff0000; font-style: italic\">False</span>\n",
       "<span style=\"font-weight: bold\">}</span>\n",
       "</pre>\n"
      ],
      "text/plain": [
       "\u001b[1m{\u001b[0m\n",
       "    \u001b[32m'statusCode'\u001b[0m: \u001b[1;36m422\u001b[0m,\n",
       "    \u001b[32m'body'\u001b[0m: \u001b[32m'\u001b[0m\u001b[32m{\u001b[0m\u001b[32m\"detail\":\u001b[0m\u001b[32m[\u001b[0m\u001b[32m{\u001b[0m\u001b[32m\"type\":\"missing\",\"loc\":\u001b[0m\u001b[32m[\u001b[0m\u001b[32m\"body\",\"file\"\u001b[0m\u001b[32m]\u001b[0m\u001b[32m,\"msg\":\"Field required\",\"input\":null\u001b[0m\u001b[32m}\u001b[0m\u001b[32m]\u001b[0m\u001b[32m}\u001b[0m\u001b[32m'\u001b[0m,\n",
       "    \u001b[32m'headers'\u001b[0m: \u001b[1m{\u001b[0m\u001b[32m'content-length'\u001b[0m: \u001b[32m'89'\u001b[0m, \u001b[32m'content-type'\u001b[0m: \u001b[32m'application/json'\u001b[0m\u001b[1m}\u001b[0m,\n",
       "    \u001b[32m'isBase64Encoded'\u001b[0m: \u001b[3;91mFalse\u001b[0m\n",
       "\u001b[1m}\u001b[0m\n"
      ]
     },
     "metadata": {},
     "output_type": "display_data"
    },
    {
     "data": {
      "text/html": [
       "<pre style=\"white-space:pre;overflow-x:auto;line-height:normal;font-family:Menlo,'DejaVu Sans Mono',consolas,'Courier New',monospace\">Response from <span style=\"color: #008000; text-decoration-color: #008000\">'GET /v1/files/example/generated-speech.mp3'</span> <span style=\"font-weight: bold\">(</span>body omitted because it's looong<span style=\"font-weight: bold\">)</span>\n",
       "</pre>\n"
      ],
      "text/plain": [
       "Response from \u001b[32m'GET /v1/files/example/generated-speech.mp3'\u001b[0m \u001b[1m(\u001b[0mbody omitted because it's looong\u001b[1m)\u001b[0m\n"
      ]
     },
     "metadata": {},
     "output_type": "display_data"
    },
    {
     "data": {
      "text/html": [
       "<pre style=\"white-space:pre;overflow-x:auto;line-height:normal;font-family:Menlo,'DejaVu Sans Mono',consolas,'Courier New',monospace\"><span style=\"font-weight: bold\">{</span>\n",
       "    <span style=\"color: #008000; text-decoration-color: #008000\">'statusCode'</span>: <span style=\"color: #008080; text-decoration-color: #008080; font-weight: bold\">404</span>,\n",
       "    <span style=\"color: #008000; text-decoration-color: #008000\">'headers'</span>: <span style=\"font-weight: bold\">{</span><span style=\"color: #008000; text-decoration-color: #008000\">'content-length'</span>: <span style=\"color: #008000; text-decoration-color: #008000\">'49'</span>, <span style=\"color: #008000; text-decoration-color: #008000\">'content-type'</span>: <span style=\"color: #008000; text-decoration-color: #008000\">'application/json'</span><span style=\"font-weight: bold\">}</span>,\n",
       "    <span style=\"color: #008000; text-decoration-color: #008000\">'isBase64Encoded'</span>: <span style=\"color: #ff0000; text-decoration-color: #ff0000; font-style: italic\">False</span>\n",
       "<span style=\"font-weight: bold\">}</span>\n",
       "</pre>\n"
      ],
      "text/plain": [
       "\u001b[1m{\u001b[0m\n",
       "    \u001b[32m'statusCode'\u001b[0m: \u001b[1;36m404\u001b[0m,\n",
       "    \u001b[32m'headers'\u001b[0m: \u001b[1m{\u001b[0m\u001b[32m'content-length'\u001b[0m: \u001b[32m'49'\u001b[0m, \u001b[32m'content-type'\u001b[0m: \u001b[32m'application/json'\u001b[0m\u001b[1m}\u001b[0m,\n",
       "    \u001b[32m'isBase64Encoded'\u001b[0m: \u001b[3;91mFalse\u001b[0m\n",
       "\u001b[1m}\u001b[0m\n"
      ]
     },
     "metadata": {},
     "output_type": "display_data"
    },
    {
     "ename": "Error",
     "evalue": "Invalid base64-encoded string: number of data characters (37) cannot be 1 more than a multiple of 4",
     "output_type": "error",
     "traceback": [
      "\u001b[0;31m---------------------------------------------------------------------------\u001b[0m",
      "\u001b[0;31mError\u001b[0m                                     Traceback (most recent call last)",
      "Cell \u001b[0;32mIn[10], line 27\u001b[0m\n\u001b[1;32m     24\u001b[0m response_body: \u001b[38;5;28mstr\u001b[39m \u001b[38;5;241m=\u001b[39m response\u001b[38;5;241m.\u001b[39mpop(\u001b[38;5;124m'\u001b[39m\u001b[38;5;124mbody\u001b[39m\u001b[38;5;124m'\u001b[39m)\n\u001b[1;32m     25\u001b[0m \u001b[38;5;28mprint\u001b[39m(response)\n\u001b[0;32m---> 27\u001b[0m \u001b[43mdisplay_base64_audio\u001b[49m\u001b[43m(\u001b[49m\u001b[43mresponse_body\u001b[49m\u001b[43m)\u001b[49m\n",
      "Cell \u001b[0;32mIn[9], line 33\u001b[0m, in \u001b[0;36mdisplay_base64_audio\u001b[0;34m(base64_string)\u001b[0m\n\u001b[1;32m     31\u001b[0m \u001b[38;5;28;01mdef\u001b[39;00m\u001b[38;5;250m \u001b[39m\u001b[38;5;21mdisplay_base64_audio\u001b[39m(base64_string: \u001b[38;5;28mstr\u001b[39m):\n\u001b[1;32m     32\u001b[0m     \u001b[38;5;66;03m# Decode the base64 string to binary data\u001b[39;00m\n\u001b[0;32m---> 33\u001b[0m     audio_data \u001b[38;5;241m=\u001b[39m \u001b[43mbase64\u001b[49m\u001b[38;5;241;43m.\u001b[39;49m\u001b[43mb64decode\u001b[49m\u001b[43m(\u001b[49m\u001b[43mbase64_string\u001b[49m\u001b[43m)\u001b[49m\n\u001b[1;32m     35\u001b[0m     \u001b[38;5;66;03m# Create an in-memory binary stream\u001b[39;00m\n\u001b[1;32m     36\u001b[0m     audio_stream \u001b[38;5;241m=\u001b[39m io\u001b[38;5;241m.\u001b[39mBytesIO(audio_data)\n",
      "File \u001b[0;32m/usr/lib/python3.10/base64.py:87\u001b[0m, in \u001b[0;36mb64decode\u001b[0;34m(s, altchars, validate)\u001b[0m\n\u001b[1;32m     85\u001b[0m \u001b[38;5;28;01mif\u001b[39;00m validate \u001b[38;5;129;01mand\u001b[39;00m \u001b[38;5;129;01mnot\u001b[39;00m re\u001b[38;5;241m.\u001b[39mfullmatch(\u001b[38;5;124mb\u001b[39m\u001b[38;5;124m'\u001b[39m\u001b[38;5;124m[A-Za-z0-9+/]*=\u001b[39m\u001b[38;5;124m{\u001b[39m\u001b[38;5;124m0,2}\u001b[39m\u001b[38;5;124m'\u001b[39m, s):\n\u001b[1;32m     86\u001b[0m     \u001b[38;5;28;01mraise\u001b[39;00m binascii\u001b[38;5;241m.\u001b[39mError(\u001b[38;5;124m'\u001b[39m\u001b[38;5;124mNon-base64 digit found\u001b[39m\u001b[38;5;124m'\u001b[39m)\n\u001b[0;32m---> 87\u001b[0m \u001b[38;5;28;01mreturn\u001b[39;00m \u001b[43mbinascii\u001b[49m\u001b[38;5;241;43m.\u001b[39;49m\u001b[43ma2b_base64\u001b[49m\u001b[43m(\u001b[49m\u001b[43ms\u001b[49m\u001b[43m)\u001b[49m\n",
      "\u001b[0;31mError\u001b[0m: Invalid base64-encoded string: number of data characters (37) cannot be 1 more than a multiple of 4"
     ]
    }
   ],
   "source": [
    "# allow nested asyncio event loops; basically makes mangum work in Jupyter\n",
    "nest_asyncio.apply()\n",
    "\n",
    "with mock_aws_and_env_vars():\n",
    "    # create the bucket \n",
    "    # print(os.environ[\"AWS_REGION\"])\n",
    "    boto3.client(\"s3\").create_bucket(\n",
    "        Bucket=S3_BUCKET_NAME, CreateBucketConfiguration={\"LocationConstraint\": os.environ[\"AWS_REGION\"]}\n",
    "    )\n",
    "\n",
    "    # create a fn(event, context) function from our FastAPI app using the mangum adapter\n",
    "    handler_fn = Mangum(app=FASTAPI_APP, lifespan='off')\n",
    "\n",
    "    # pass a JSON event representing `PUT /v1/files/example/generated-speech.mp3`\n",
    "    response = handler_fn(event=PUT_AUDIO_FILE_EVENT, context=MockedLambdaContext())\n",
    "    \n",
    "    print(\"Response from 'PUT /v1/files/example/generated-speech.mp3'\")\n",
    "    print(response)\n",
    "\n",
    "    # pass a JSON event representing `GET /v1/files/example/generated-speech.mp3`\n",
    "    response = handler_fn(event=GET_AUDIO_FILE_EVENT, context=MockedLambdaContext())\n",
    "\n",
    "    print(\"Response from 'GET /v1/files/example/generated-speech.mp3' (body omitted because it's looong)\")\n",
    "    response_body: str = response.pop('body')\n",
    "    print(response)\n",
    "\n",
    "    display_base64_audio(response_body)\n"
   ]
  }
 ],
 "metadata": {
  "kernelspec": {
   "display_name": "mangum-venv",
   "language": "python",
   "name": "python3"
  },
  "language_info": {
   "codemirror_mode": {
    "name": "ipython",
    "version": 3
   },
   "file_extension": ".py",
   "mimetype": "text/x-python",
   "name": "python",
   "nbconvert_exporter": "python",
   "pygments_lexer": "ipython3",
   "version": "3.10.12"
  }
 },
 "nbformat": 4,
 "nbformat_minor": 2
}
